{
 "cells": [
  {
   "cell_type": "code",
   "execution_count": 42,
   "metadata": {},
   "outputs": [],
   "source": [
    "from io import StringIO\n",
    "\n",
    "import matplotlib.pyplot as plt\n",
    "import numpy as np\n",
    "import pandas as pd\n",
    "from numpy import NaN\n",
    "from pylab import rcParams\n",
    "\n",
    "rcParams[\"figure.figsize\"] = 16, 4"
   ]
  },
  {
   "cell_type": "markdown",
   "metadata": {
    "tags": []
   },
   "source": [
    "## Log file"
   ]
  },
  {
   "cell_type": "markdown",
   "metadata": {},
   "source": [
    "**For a fair comparison between groups, must follow the output format below**\n",
    "<br>$\\color{red}{\\text{{seq}|{timestamp\\_tx}|{timestamp\\_rx}|{payload in hex}|{rssi}}}$\n",
    "<br> seq (decimal); timestamps (ticks with rtimer), payload (hex).\n",
    "***\n",
    "<br>*Example log file output for one packet with seq number \"0x00\", \"0x01\", \"0x02\"\n",
    "<br>transmitter timestamp xxxx, reciever timestamp xxxx and random payload length 32)*\n",
    "<br>0|66405|1781766|2f c2 39 44 d3 16 7d b8 b7 aa 01 6c db 7e c5 60 3f 92 c9 94 e3 e6 0d 08 c7 7a 91 bc eb 4e 55 b0 |-31\n",
    "<br>1|128906|1844756|3c 6b ce d5 30 cf e2 d9 64 73 36 1d d8 57 ca a1 8c 7b 9e 65 80 df b2 69 b4 83 06 ad 28 67 9a 31 |-29\n",
    "<br>2|191408|1906287|49 14 63 66 8d 88 47 fa 11 3c 6b ce d5 30 cf e2 d9 64 73 36 1d d8 57 ca a1 8c 7b 9e 65 80 df b2 |-30\n",
    "<br>$\\color{red}{\\text{delimiter for four variables is \"|\" and delimiter for the payload each byte is the space \" \".}}$"
   ]
  },
  {
   "cell_type": "code",
   "execution_count": 43,
   "metadata": {},
   "outputs": [],
   "source": [
    "def readfile(filename):\n",
    "    types = {\n",
    "        \"seq\": int,\n",
    "        \"time_tx\": float,\n",
    "        \"time_rx\": float,\n",
    "        \"payload\": str,\n",
    "        \"rssi\": int,\n",
    "    }\n",
    "    df = pd.read_csv(\n",
    "        StringIO(\" \".join(l for l in open(filename))),\n",
    "        skiprows=0,\n",
    "        header=None,\n",
    "        dtype=types,\n",
    "        delim_whitespace=False,\n",
    "        delimiter=\"|\",\n",
    "    )\n",
    "    df.columns = [\"seq\", \"time_tx\", \"time_rx\", \"payload\", \"rssi\"]\n",
    "    df.dropna(inplace=True)\n",
    "    # print(df.describe())\n",
    "    return df"
   ]
  },
  {
   "cell_type": "code",
   "execution_count": 44,
   "metadata": {},
   "outputs": [
    {
     "data": {
      "text/html": [
       "<div>\n",
       "<style scoped>\n",
       "    .dataframe tbody tr th:only-of-type {\n",
       "        vertical-align: middle;\n",
       "    }\n",
       "\n",
       "    .dataframe tbody tr th {\n",
       "        vertical-align: top;\n",
       "    }\n",
       "\n",
       "    .dataframe thead th {\n",
       "        text-align: right;\n",
       "    }\n",
       "</style>\n",
       "<table border=\"1\" class=\"dataframe\">\n",
       "  <thead>\n",
       "    <tr style=\"text-align: right;\">\n",
       "      <th></th>\n",
       "      <th>seq</th>\n",
       "      <th>time_tx</th>\n",
       "      <th>time_rx</th>\n",
       "      <th>payload</th>\n",
       "      <th>rssi</th>\n",
       "    </tr>\n",
       "  </thead>\n",
       "  <tbody>\n",
       "    <tr>\n",
       "      <th>0</th>\n",
       "      <td>1</td>\n",
       "      <td>17740811</td>\n",
       "      <td>2322135</td>\n",
       "      <td>3c 6b ce d5 30 cf e2 d9 64 73 36 1d d8 57 ca a...</td>\n",
       "      <td>-98</td>\n",
       "    </tr>\n",
       "    <tr>\n",
       "      <th>1</th>\n",
       "      <td>2</td>\n",
       "      <td>17803800</td>\n",
       "      <td>2383659</td>\n",
       "      <td>49 14 63 66 8d 88 47 fa 11 3c 6b ce d5 30 cf e...</td>\n",
       "      <td>-94</td>\n",
       "    </tr>\n",
       "    <tr>\n",
       "      <th>2</th>\n",
       "      <td>3</td>\n",
       "      <td>17866788</td>\n",
       "      <td>2449089</td>\n",
       "      <td>56 bd f8 f7 ea 41 ac 1b be 05 a0 7f d2 09 d4 2...</td>\n",
       "      <td>-97</td>\n",
       "    </tr>\n",
       "    <tr>\n",
       "      <th>3</th>\n",
       "      <td>4</td>\n",
       "      <td>17929777</td>\n",
       "      <td>2512078</td>\n",
       "      <td>63 66 8d 88 47 fa 11 3c 6b ce d5 30 cf e2 d9 6...</td>\n",
       "      <td>-98</td>\n",
       "    </tr>\n",
       "    <tr>\n",
       "      <th>4</th>\n",
       "      <td>5</td>\n",
       "      <td>17992766</td>\n",
       "      <td>2572425</td>\n",
       "      <td>70 0f 22 19 a4 b3 76 5d 18 97 0a e1 cc bb de a...</td>\n",
       "      <td>-95</td>\n",
       "    </tr>\n",
       "    <tr>\n",
       "      <th>5</th>\n",
       "      <td>6</td>\n",
       "      <td>18055755</td>\n",
       "      <td>2639520</td>\n",
       "      <td>7d b8 b7 aa 01 6c db 7e c5 60 3f 92 c9 94 e3 e...</td>\n",
       "      <td>-97</td>\n",
       "    </tr>\n",
       "    <tr>\n",
       "      <th>6</th>\n",
       "      <td>7</td>\n",
       "      <td>18118743</td>\n",
       "      <td>2701044</td>\n",
       "      <td>8a 61 4c 3b 5e 25 40 9f 72 29 74 43 c6 6d e8 2...</td>\n",
       "      <td>-97</td>\n",
       "    </tr>\n",
       "    <tr>\n",
       "      <th>7</th>\n",
       "      <td>8</td>\n",
       "      <td>18181732</td>\n",
       "      <td>2763057</td>\n",
       "      <td>97 0a e1 cc bb de a5 c0 1f f2 a9 f4 c3 46 ed 6...</td>\n",
       "      <td>-96</td>\n",
       "    </tr>\n",
       "    <tr>\n",
       "      <th>8</th>\n",
       "      <td>9</td>\n",
       "      <td>18244721</td>\n",
       "      <td>2825557</td>\n",
       "      <td>a4 b3 76 5d 18 97 0a e1 cc bb de a5 c0 1f f2 a...</td>\n",
       "      <td>-97</td>\n",
       "    </tr>\n",
       "    <tr>\n",
       "      <th>9</th>\n",
       "      <td>10</td>\n",
       "      <td>18307710</td>\n",
       "      <td>2890011</td>\n",
       "      <td>b1 5c 0b ee 75 50 6f 02 79 84 13 56 bd f8 f7 e...</td>\n",
       "      <td>-96</td>\n",
       "    </tr>\n",
       "  </tbody>\n",
       "</table>\n",
       "</div>"
      ],
      "text/plain": [
       "   seq   time_tx  time_rx                                            payload  \\\n",
       "0    1  17740811  2322135  3c 6b ce d5 30 cf e2 d9 64 73 36 1d d8 57 ca a...   \n",
       "1    2  17803800  2383659  49 14 63 66 8d 88 47 fa 11 3c 6b ce d5 30 cf e...   \n",
       "2    3  17866788  2449089  56 bd f8 f7 ea 41 ac 1b be 05 a0 7f d2 09 d4 2...   \n",
       "3    4  17929777  2512078  63 66 8d 88 47 fa 11 3c 6b ce d5 30 cf e2 d9 6...   \n",
       "4    5  17992766  2572425  70 0f 22 19 a4 b3 76 5d 18 97 0a e1 cc bb de a...   \n",
       "5    6  18055755  2639520  7d b8 b7 aa 01 6c db 7e c5 60 3f 92 c9 94 e3 e...   \n",
       "6    7  18118743  2701044  8a 61 4c 3b 5e 25 40 9f 72 29 74 43 c6 6d e8 2...   \n",
       "7    8  18181732  2763057  97 0a e1 cc bb de a5 c0 1f f2 a9 f4 c3 46 ed 6...   \n",
       "8    9  18244721  2825557  a4 b3 76 5d 18 97 0a e1 cc bb de a5 c0 1f f2 a...   \n",
       "9   10  18307710  2890011  b1 5c 0b ee 75 50 6f 02 79 84 13 56 bd f8 f7 e...   \n",
       "\n",
       "   rssi  \n",
       "0   -98  \n",
       "1   -94  \n",
       "2   -97  \n",
       "3   -98  \n",
       "4   -95  \n",
       "5   -97  \n",
       "6   -97  \n",
       "7   -96  \n",
       "8   -97  \n",
       "9   -96  "
      ]
     },
     "execution_count": 44,
     "metadata": {},
     "output_type": "execute_result"
    }
   ],
   "source": [
    "# define the file name\n",
    "filename = \"udp_m\"\n",
    "# import file to jupyter notebook\n",
    "df = readfile(\"./\" + filename + \".csv\")\n",
    "\n",
    "# check the imported data first 10 lines\n",
    "df.head(10)"
   ]
  },
  {
   "cell_type": "markdown",
   "metadata": {
    "tags": []
   },
   "source": [
    "# Delay"
   ]
  },
  {
   "cell_type": "markdown",
   "metadata": {
    "tags": []
   },
   "source": [
    "## Definition"
   ]
  },
  {
   "cell_type": "markdown",
   "metadata": {},
   "source": [
    "**Evaluation metric**\n",
    "<br>*File delay: the total latency that certain amount of Data $F$ is delivered to the destination.*\n",
    "<br> $File\\ Delay = Rx\\_timestamp[N] - Rx\\_timestamp[0]$\n",
    "<br> where $N$ is the last packet\n",
    "***\n",
    "**Interesting to look at**:\n",
    "<br>*Timestamp difference*: $\\Delta T[i] = Rx\\_timestamp[i] - Tx\\_timestamp[i]$\n",
    "1. *Worst-case packet delay*: the delay of the packet that takes the longest time to traverse.\n",
    "2. *Packet delay variation*: the std of the packet delay."
   ]
  },
  {
   "cell_type": "code",
   "execution_count": 45,
   "metadata": {},
   "outputs": [
    {
     "name": "stdout",
     "output_type": "stream",
     "text": [
      "The time it takes to transfer the file is : 15998180 (ticks with rtimer).\n"
     ]
    }
   ],
   "source": [
    "# compute the file delay\n",
    "file_delay = df.time_rx[len(df) - 1] - df.time_rx[0]\n",
    "print(f\"The time it takes to transfer the file is : {file_delay} (ticks with rtimer).\")"
   ]
  },
  {
   "cell_type": "markdown",
   "metadata": {
    "tags": []
   },
   "source": [
    "## Statistics"
   ]
  },
  {
   "cell_type": "code",
   "execution_count": 46,
   "metadata": {},
   "outputs": [
    {
     "data": {
      "text/html": [
       "<div>\n",
       "<style scoped>\n",
       "    .dataframe tbody tr th:only-of-type {\n",
       "        vertical-align: middle;\n",
       "    }\n",
       "\n",
       "    .dataframe tbody tr th {\n",
       "        vertical-align: top;\n",
       "    }\n",
       "\n",
       "    .dataframe thead th {\n",
       "        text-align: right;\n",
       "    }\n",
       "</style>\n",
       "<table border=\"1\" class=\"dataframe\">\n",
       "  <thead>\n",
       "    <tr style=\"text-align: right;\">\n",
       "      <th></th>\n",
       "      <th>seq</th>\n",
       "      <th>time_tx</th>\n",
       "      <th>time_rx</th>\n",
       "      <th>payload</th>\n",
       "      <th>rssi</th>\n",
       "      <th>delta_t</th>\n",
       "    </tr>\n",
       "  </thead>\n",
       "  <tbody>\n",
       "    <tr>\n",
       "      <th>0</th>\n",
       "      <td>1</td>\n",
       "      <td>17740811</td>\n",
       "      <td>2322135</td>\n",
       "      <td>3c 6b ce d5 30 cf e2 d9 64 73 36 1d d8 57 ca a...</td>\n",
       "      <td>-98</td>\n",
       "      <td>-15418676</td>\n",
       "    </tr>\n",
       "    <tr>\n",
       "      <th>1</th>\n",
       "      <td>2</td>\n",
       "      <td>17803800</td>\n",
       "      <td>2383659</td>\n",
       "      <td>49 14 63 66 8d 88 47 fa 11 3c 6b ce d5 30 cf e...</td>\n",
       "      <td>-94</td>\n",
       "      <td>-15420141</td>\n",
       "    </tr>\n",
       "    <tr>\n",
       "      <th>2</th>\n",
       "      <td>3</td>\n",
       "      <td>17866788</td>\n",
       "      <td>2449089</td>\n",
       "      <td>56 bd f8 f7 ea 41 ac 1b be 05 a0 7f d2 09 d4 2...</td>\n",
       "      <td>-97</td>\n",
       "      <td>-15417699</td>\n",
       "    </tr>\n",
       "    <tr>\n",
       "      <th>3</th>\n",
       "      <td>4</td>\n",
       "      <td>17929777</td>\n",
       "      <td>2512078</td>\n",
       "      <td>63 66 8d 88 47 fa 11 3c 6b ce d5 30 cf e2 d9 6...</td>\n",
       "      <td>-98</td>\n",
       "      <td>-15417699</td>\n",
       "    </tr>\n",
       "    <tr>\n",
       "      <th>4</th>\n",
       "      <td>5</td>\n",
       "      <td>17992766</td>\n",
       "      <td>2572425</td>\n",
       "      <td>70 0f 22 19 a4 b3 76 5d 18 97 0a e1 cc bb de a...</td>\n",
       "      <td>-95</td>\n",
       "      <td>-15420341</td>\n",
       "    </tr>\n",
       "    <tr>\n",
       "      <th>5</th>\n",
       "      <td>6</td>\n",
       "      <td>18055755</td>\n",
       "      <td>2639520</td>\n",
       "      <td>7d b8 b7 aa 01 6c db 7e c5 60 3f 92 c9 94 e3 e...</td>\n",
       "      <td>-97</td>\n",
       "      <td>-15416235</td>\n",
       "    </tr>\n",
       "    <tr>\n",
       "      <th>6</th>\n",
       "      <td>7</td>\n",
       "      <td>18118743</td>\n",
       "      <td>2701044</td>\n",
       "      <td>8a 61 4c 3b 5e 25 40 9f 72 29 74 43 c6 6d e8 2...</td>\n",
       "      <td>-97</td>\n",
       "      <td>-15417699</td>\n",
       "    </tr>\n",
       "    <tr>\n",
       "      <th>7</th>\n",
       "      <td>8</td>\n",
       "      <td>18181732</td>\n",
       "      <td>2763057</td>\n",
       "      <td>97 0a e1 cc bb de a5 c0 1f f2 a9 f4 c3 46 ed 6...</td>\n",
       "      <td>-96</td>\n",
       "      <td>-15418675</td>\n",
       "    </tr>\n",
       "    <tr>\n",
       "      <th>8</th>\n",
       "      <td>9</td>\n",
       "      <td>18244721</td>\n",
       "      <td>2825557</td>\n",
       "      <td>a4 b3 76 5d 18 97 0a e1 cc bb de a5 c0 1f f2 a...</td>\n",
       "      <td>-97</td>\n",
       "      <td>-15419164</td>\n",
       "    </tr>\n",
       "    <tr>\n",
       "      <th>9</th>\n",
       "      <td>10</td>\n",
       "      <td>18307710</td>\n",
       "      <td>2890011</td>\n",
       "      <td>b1 5c 0b ee 75 50 6f 02 79 84 13 56 bd f8 f7 e...</td>\n",
       "      <td>-96</td>\n",
       "      <td>-15417699</td>\n",
       "    </tr>\n",
       "  </tbody>\n",
       "</table>\n",
       "</div>"
      ],
      "text/plain": [
       "   seq   time_tx  time_rx                                            payload  \\\n",
       "0    1  17740811  2322135  3c 6b ce d5 30 cf e2 d9 64 73 36 1d d8 57 ca a...   \n",
       "1    2  17803800  2383659  49 14 63 66 8d 88 47 fa 11 3c 6b ce d5 30 cf e...   \n",
       "2    3  17866788  2449089  56 bd f8 f7 ea 41 ac 1b be 05 a0 7f d2 09 d4 2...   \n",
       "3    4  17929777  2512078  63 66 8d 88 47 fa 11 3c 6b ce d5 30 cf e2 d9 6...   \n",
       "4    5  17992766  2572425  70 0f 22 19 a4 b3 76 5d 18 97 0a e1 cc bb de a...   \n",
       "5    6  18055755  2639520  7d b8 b7 aa 01 6c db 7e c5 60 3f 92 c9 94 e3 e...   \n",
       "6    7  18118743  2701044  8a 61 4c 3b 5e 25 40 9f 72 29 74 43 c6 6d e8 2...   \n",
       "7    8  18181732  2763057  97 0a e1 cc bb de a5 c0 1f f2 a9 f4 c3 46 ed 6...   \n",
       "8    9  18244721  2825557  a4 b3 76 5d 18 97 0a e1 cc bb de a5 c0 1f f2 a...   \n",
       "9   10  18307710  2890011  b1 5c 0b ee 75 50 6f 02 79 84 13 56 bd f8 f7 e...   \n",
       "\n",
       "   rssi   delta_t  \n",
       "0   -98 -15418676  \n",
       "1   -94 -15420141  \n",
       "2   -97 -15417699  \n",
       "3   -98 -15417699  \n",
       "4   -95 -15420341  \n",
       "5   -97 -15416235  \n",
       "6   -97 -15417699  \n",
       "7   -96 -15418675  \n",
       "8   -97 -15419164  \n",
       "9   -96 -15417699  "
      ]
     },
     "execution_count": 46,
     "metadata": {},
     "output_type": "execute_result"
    }
   ],
   "source": [
    "# compute the Delta_t metric\n",
    "df[\"delta_t\"] = df[\"time_rx\"] - df[\"time_tx\"]\n",
    "# check the updated dataframe first 10 lines\n",
    "df.head(10)"
   ]
  },
  {
   "cell_type": "code",
   "execution_count": 47,
   "metadata": {},
   "outputs": [
    {
     "data": {
      "image/png": "[encoded data removed]",
      "text/plain": [
       "<Figure size 1152x288 with 1 Axes>"
      ]
     },
     "metadata": {},
     "output_type": "display_data"
    }
   ],
   "source": [
    "# visual delta_t along with the timeline\n",
    "plt.plot(df[\"delta_t\"], color=\"black\")\n",
    "\n",
    "plt.xlabel(\"$time$\", fontsize=16)\n",
    "plt.ylabel(\"$\\Delta\\ t$\", fontsize=16)\n",
    "plt.grid()"
   ]
  },
  {
   "cell_type": "code",
   "execution_count": 48,
   "metadata": {},
   "outputs": [
    {
     "data": {
      "image/png": "[encoded data removed]",
      "text/plain": [
       "<Figure size 1152x288 with 1 Axes>"
      ]
     },
     "metadata": {},
     "output_type": "display_data"
    }
   ],
   "source": [
    "# visual delta_t distribution with histogram\n",
    "plt.hist(df[\"delta_t\"], color=\"black\", edgecolor=\"black\", bins=10)\n",
    "\n",
    "plt.xlabel(\"$\\Delta\\ t$\", fontsize=16)\n",
    "plt.ylabel(\"Number of packet\", fontsize=16)\n",
    "plt.grid()"
   ]
  },
  {
   "cell_type": "code",
   "execution_count": 49,
   "metadata": {},
   "outputs": [
    {
     "name": "stdout",
     "output_type": "stream",
     "text": [
      "worse-case delta_t t$: -15411828 \n",
      "delta_t variation: 1485.3252927630735 \n"
     ]
    }
   ],
   "source": [
    "# Worst-case delay\n",
    "wc_t = max(df[\"delta_t\"])\n",
    "\n",
    "# Delay std\n",
    "std_t = df.delta_t.std()\n",
    "\n",
    "print(f\"worse-case delta_t t$: {wc_t} \\ndelta_t variation: {std_t} \")"
   ]
  },
  {
   "cell_type": "markdown",
   "metadata": {
    "tags": []
   },
   "source": [
    "# Reliability"
   ]
  },
  {
   "cell_type": "markdown",
   "metadata": {},
   "source": [
    "## Definition"
   ]
  },
  {
   "cell_type": "markdown",
   "metadata": {},
   "source": [
    "**Evaluation metric**\n",
    "<br>*Quality of data transfer.*\n",
    "<br> *File correctness*: the ratio of file correctly delivered to the data sink.\n",
    "***\n",
    "**Interesting to look at**:\n",
    "1. *Expected number of transmission*: the ratio of the number of packets correctly received by the data sink and the number of packets sent by the source.\n",
    "\n",
    "$$ETX = \\frac{Number\\ of\\ packet\\ received}{Number\\ of\\ packet\\ sent}$$\n",
    "\n",
    "2. *Packet reliability*: the number of packet bit correctly delivered to next hop.\n",
    "$$Bit\\ reliability[i] = 1 - BER[i] = 1 - \\frac{Number\\ of\\ wrong\\ bit}{Total\\ Number\\ of\\ bit\\ sent}$$"
   ]
  },
  {
   "cell_type": "markdown",
   "metadata": {
    "tags": []
   },
   "source": [
    "## Statistics"
   ]
  },
  {
   "cell_type": "code",
   "execution_count": 50,
   "metadata": {},
   "outputs": [],
   "source": [
    "def parse_payload(payload_string):\n",
    "    tmp = map(lambda x: int(x, base=16), payload_string.split())\n",
    "    return list(tmp)\n",
    "\n",
    "\n",
    "def compute_sequence(seed, length):\n",
    "    A1 = 1664525\n",
    "    C1 = 1013904223\n",
    "    RAND_MAX1 = (1 << 31) - 1  #\n",
    "    MAX_BYTE = (1 << 8) - 1  # one byte\n",
    "    num = seed | (1 << 4)  # seed (4 bites) is part of the seq number\n",
    "    seq = list()\n",
    "    for _ in range(length):  # generate the random payload byte by byte\n",
    "        num = (num * A1 + C1) & RAND_MAX1\n",
    "        seq.append(num & MAX_BYTE)\n",
    "    return seq\n",
    "\n",
    "\n",
    "def popcount(n):\n",
    "    return bin(n).count(\"1\")\n",
    "\n",
    "\n",
    "def compute_bit_errors(payload, sequence):\n",
    "    return sum(\n",
    "        map(\n",
    "            popcount,\n",
    "            (\n",
    "                np.array(payload[:PACKET_LEN])\n",
    "                ^ np.array(sequence[: len(payload[:PACKET_LEN])])\n",
    "            ),\n",
    "        )\n",
    "    )\n",
    "\n",
    "\n",
    "def compute_ber(df, PACKET_LEN):\n",
    "    packets = len(df)\n",
    "    \n",
    "    # dataframe records the bit error for each packet\n",
    "    error = pd.DataFrame(columns=['seq', 'bit_errors'])\n",
    "    # seq number initialization\n",
    "    error.seq = range(df.seq[0], df.seq[packets-1]+1)\n",
    "    # bit_errors list initialization\n",
    "    error.bit_errors = [list() for x in range(len(error))]\n",
    "    \n",
    "    file_size = len(error) * PACKET_LEN * 8\n",
    "    \n",
    "    # start count the error bits\n",
    "    for idx in range(packets):\n",
    "        # return the matched row index for the specific seq number in log file\n",
    "        error_idx = error.index[error.seq == df.seq[idx]][0]\n",
    "        # compute the bit errors\n",
    "        payload = parse_payload(df.payload[idx])\n",
    "        sequence = compute_sequence(df.seq[idx], PACKET_LEN)\n",
    "        error.bit_errors[error_idx].append(compute_bit_errors(payload, sequence))\n",
    "\n",
    "    # total bit error counter initialization\n",
    "    counter = 0\n",
    "    # for the lost packet \n",
    "    for l in error.bit_errors:\n",
    "        if l == []: \n",
    "            counter += PACKET_LEN*8 # when the seq number is lost, consider the entire packet payload as error\n",
    "        else:\n",
    "            counter += min(l) # when the seq number received several times, consider the minimum error\n",
    "    print(error)\n",
    "    return counter / file_size"
   ]
  },
  {
   "cell_type": "code",
   "execution_count": 51,
   "metadata": {},
   "outputs": [
    {
     "name": "stdout",
     "output_type": "stream",
     "text": [
      "49 14 63 66 8d 88 47 fa 11 3c 6b ce d5 30 cf e2 d9 64 73 36 1d d8 57 ca a1 8c 7b 9e 65 80 df b2 "
     ]
    }
   ],
   "source": [
    "# payload example for debug purpose\n",
    "# correct sequence for seq NO. 'ae'\n",
    "PACKET_LEN = 32  # packet payload length defined by the transmitter\n",
    "tmp = compute_sequence(int(\"02\", base=16), PACKET_LEN)\n",
    "for i in tmp:\n",
    "    print(\"{:02x}\".format(i), end=\" \")"
   ]
  },
  {
   "cell_type": "code",
   "execution_count": 52,
   "metadata": {},
   "outputs": [
    {
     "name": "stdout",
     "output_type": "stream",
     "text": [
      "     seq bit_errors\n",
      "0      1        [0]\n",
      "1      2        [0]\n",
      "2      3        [0]\n",
      "3      4        [0]\n",
      "4      5        [0]\n",
      "..   ...        ...\n",
      "250  251         []\n",
      "251  252        [0]\n",
      "252  253         []\n",
      "253  254        [0]\n",
      "254  255        [0]\n",
      "\n",
      "[255 rows x 2 columns]\n",
      "Bit reliability: 0.8627450980392157\n"
     ]
    }
   ],
   "source": [
    "PACKET_LEN = 32  # packet payload length defined by the transmitter\n",
    "\n",
    "# compute the BER for all received packets\n",
    "ber = compute_ber(df, PACKET_LEN=PACKET_LEN)\n",
    "print(f\"Bit reliability: {1-ber}\")"
   ]
  },
  {
   "cell_type": "markdown",
   "metadata": {
    "tags": []
   },
   "source": [
    "# Energy consumption"
   ]
  },
  {
   "cell_type": "markdown",
   "metadata": {},
   "source": [
    "## Definition"
   ]
  },
  {
   "cell_type": "markdown",
   "metadata": {},
   "source": [
    "**The total number of energy for the file transmitted and receiving during the file transmission.**\n",
    "<br> system energy consumption = Transmission energy consumption + Relay energy consumption\n",
    "1. Transmission energy consumption: measure transmitter with power profiler kit (PPK2)\n",
    "2. Relay energy consumption: measure relay node with PPK2\n",
    "***\n",
    "<a href=\"https://infocenter.nordicsemi.com/index.jsp?topic=%2Fug_nrf52840_dk%2FUG%2Fdk%2Fintro.html\">Power measurement guidelines</a>"
   ]
  },
  {
   "cell_type": "code",
   "execution_count": 53,
   "metadata": {},
   "outputs": [
    {
     "data": {
      "text/html": [
       "<div>\n",
       "<style scoped>\n",
       "    .dataframe tbody tr th:only-of-type {\n",
       "        vertical-align: middle;\n",
       "    }\n",
       "\n",
       "    .dataframe tbody tr th {\n",
       "        vertical-align: top;\n",
       "    }\n",
       "\n",
       "    .dataframe thead th {\n",
       "        text-align: right;\n",
       "    }\n",
       "</style>\n",
       "<table border=\"1\" class=\"dataframe\">\n",
       "  <thead>\n",
       "    <tr style=\"text-align: right;\">\n",
       "      <th></th>\n",
       "      <th>Timestamp(ms)</th>\n",
       "      <th>Current(uA)</th>\n",
       "      <th>D0-D7</th>\n",
       "    </tr>\n",
       "  </thead>\n",
       "  <tbody>\n",
       "    <tr>\n",
       "      <th>0</th>\n",
       "      <td>67775.68</td>\n",
       "      <td>14103.027</td>\n",
       "      <td>0</td>\n",
       "    </tr>\n",
       "    <tr>\n",
       "      <th>1</th>\n",
       "      <td>67775.69</td>\n",
       "      <td>13866.643</td>\n",
       "      <td>0</td>\n",
       "    </tr>\n",
       "    <tr>\n",
       "      <th>2</th>\n",
       "      <td>67775.70</td>\n",
       "      <td>13866.643</td>\n",
       "      <td>0</td>\n",
       "    </tr>\n",
       "    <tr>\n",
       "      <th>3</th>\n",
       "      <td>67775.71</td>\n",
       "      <td>14339.720</td>\n",
       "      <td>0</td>\n",
       "    </tr>\n",
       "    <tr>\n",
       "      <th>4</th>\n",
       "      <td>67775.72</td>\n",
       "      <td>14292.356</td>\n",
       "      <td>0</td>\n",
       "    </tr>\n",
       "    <tr>\n",
       "      <th>5</th>\n",
       "      <td>67775.73</td>\n",
       "      <td>14197.667</td>\n",
       "      <td>0</td>\n",
       "    </tr>\n",
       "    <tr>\n",
       "      <th>6</th>\n",
       "      <td>67775.74</td>\n",
       "      <td>13961.159</td>\n",
       "      <td>0</td>\n",
       "    </tr>\n",
       "    <tr>\n",
       "      <th>7</th>\n",
       "      <td>67775.75</td>\n",
       "      <td>14055.726</td>\n",
       "      <td>0</td>\n",
       "    </tr>\n",
       "    <tr>\n",
       "      <th>8</th>\n",
       "      <td>67775.76</td>\n",
       "      <td>14055.726</td>\n",
       "      <td>0</td>\n",
       "    </tr>\n",
       "    <tr>\n",
       "      <th>9</th>\n",
       "      <td>67775.77</td>\n",
       "      <td>14197.667</td>\n",
       "      <td>0</td>\n",
       "    </tr>\n",
       "  </tbody>\n",
       "</table>\n",
       "</div>"
      ],
      "text/plain": [
       "   Timestamp(ms)  Current(uA)  D0-D7\n",
       "0       67775.68    14103.027      0\n",
       "1       67775.69    13866.643      0\n",
       "2       67775.70    13866.643      0\n",
       "3       67775.71    14339.720      0\n",
       "4       67775.72    14292.356      0\n",
       "5       67775.73    14197.667      0\n",
       "6       67775.74    13961.159      0\n",
       "7       67775.75    14055.726      0\n",
       "8       67775.76    14055.726      0\n",
       "9       67775.77    14197.667      0"
      ]
     },
     "execution_count": 53,
     "metadata": {},
     "output_type": "execute_result"
    }
   ],
   "source": [
    "# load ppk data for the transmitter\n",
    "energy_tx = pd.read_csv(\"./ppk-udp.csv\")\n",
    "\n",
    "# check the imported data first 10 lines\n",
    "energy_tx.head(10)"
   ]
  },
  {
   "cell_type": "code",
   "execution_count": 54,
   "metadata": {},
   "outputs": [
    {
     "name": "stdout",
     "output_type": "stream",
     "text": [
      "The total charge (current*time) [mC]: 99.20233866162212 \n",
      "The total energy consumption is [mW]: 56.68713164540066\n"
     ]
    }
   ],
   "source": [
    "# the voltage (controlled by the PPK2, in the example log we set it as 4000 mV)\n",
    "voltage = 4000 / 1e3  # mV to V\n",
    "\n",
    "# the power consumption\n",
    "average_current = energy_tx.iloc[:, 1].mean() / 1e6  # mA to A\n",
    "time = (energy_tx.iloc[-1, 0] - energy_tx.iloc[0, 0]) / 1e3  # ms to S\n",
    "charge = average_current * time  # unit is C\n",
    "power = average_current * voltage\n",
    "\n",
    "print(\n",
    "    f\"The total charge (current*time) [mC]: {charge*1e3} \\nThe total energy consumption is [mW]: {power*1e3}\"\n",
    ")"
   ]
  },
  {
   "cell_type": "code",
   "execution_count": 55,
   "metadata": {},
   "outputs": [
    {
     "data": {
      "image/png": "[encoded data removed]",
      "text/plain": [
       "<Figure size 1152x288 with 1 Axes>"
      ]
     },
     "metadata": {},
     "output_type": "display_data"
    }
   ],
   "source": [
    "# the current log for three transmissions\n",
    "plt.plot(energy_tx.iloc[:, 1], color=\"black\")\n",
    "\n",
    "plt.xlabel(\"Time [ms]\", fontsize=16)\n",
    "plt.ylabel(\"Current (uA)\", fontsize=16)\n",
    "plt.grid()"
   ]
  },
  {
   "cell_type": "code",
   "execution_count": null,
   "metadata": {},
   "outputs": [],
   "source": []
  },
  {
   "cell_type": "code",
   "execution_count": null,
   "metadata": {},
   "outputs": [],
   "source": []
  },
  {
   "cell_type": "code",
   "execution_count": null,
   "metadata": {},
   "outputs": [],
   "source": []
  }
 ],
 "metadata": {
  "kernelspec": {
   "display_name": "Python 3",
   "language": "python",
   "name": "python3"
  },
  "language_info": {
   "codemirror_mode": {
    "name": "ipython",
    "version": 3
   },
   "file_extension": ".py",
   "mimetype": "text/x-python",
   "name": "python",
   "nbconvert_exporter": "python",
   "pygments_lexer": "ipython3",
   "version": "3.6.9"
  },
  "toc-autonumbering": true
 },
 "nbformat": 4,
 "nbformat_minor": 5
}
